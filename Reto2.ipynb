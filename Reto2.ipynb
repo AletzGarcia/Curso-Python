{
  "cells": [
    {
      "cell_type": "markdown",
      "metadata": {
        "id": "nCjE4hgyjNPT"
      },
      "source": [
        "# Reto 2:\n",
        "\n",
        "---\n",
        "\n"
      ]
    },
    {
      "cell_type": "markdown",
      "metadata": {
        "id": "DUu2A4GtjRV6"
      },
      "source": [
        "## Ejercicio 1: Concicionales Simples\n",
        "\n",
        "Modificaras los _ poniendo el número para que se adecue al Resultado"
      ]
    },
    {
      "cell_type": "markdown",
      "metadata": {
        "id": "m9kuej_pF8GC"
      },
      "source": [
        "### Que todos los resultados den TRUE"
      ]
    },
    {
      "cell_type": "code",
      "execution_count": 1,
      "metadata": {
        "id": "KJaYe7czkj6S"
      },
      "outputs": [
        {
          "data": {
            "text/plain": [
              "True"
            ]
          },
          "execution_count": 1,
          "metadata": {},
          "output_type": "execute_result"
        }
      ],
      "source": [
        "6 > 5"
      ]
    },
    {
      "cell_type": "code",
      "execution_count": 2,
      "metadata": {
        "id": "XUwPxL63F-QB"
      },
      "outputs": [
        {
          "data": {
            "text/plain": [
              "True"
            ]
          },
          "execution_count": 2,
          "metadata": {},
          "output_type": "execute_result"
        }
      ],
      "source": [
        "7 < 8"
      ]
    },
    {
      "cell_type": "code",
      "execution_count": 3,
      "metadata": {
        "id": "57BUeb6XGAD5"
      },
      "outputs": [
        {
          "data": {
            "text/plain": [
              "True"
            ]
          },
          "execution_count": 3,
          "metadata": {},
          "output_type": "execute_result"
        }
      ],
      "source": [
        "18 < 20  "
      ]
    },
    {
      "cell_type": "markdown",
      "metadata": {
        "id": "sycdwGVhkMFA"
      },
      "source": [
        "### Que todos los resultados den False"
      ]
    },
    {
      "cell_type": "code",
      "execution_count": 4,
      "metadata": {
        "id": "P32CXA2zipLd"
      },
      "outputs": [
        {
          "data": {
            "text/plain": [
              "False"
            ]
          },
          "execution_count": 4,
          "metadata": {},
          "output_type": "execute_result"
        }
      ],
      "source": [
        "1 > 57"
      ]
    },
    {
      "cell_type": "code",
      "execution_count": 5,
      "metadata": {
        "id": "jAdMEwLvG9Rh"
      },
      "outputs": [
        {
          "data": {
            "text/plain": [
              "False"
            ]
          },
          "execution_count": 5,
          "metadata": {},
          "output_type": "execute_result"
        }
      ],
      "source": [
        "30 < 25"
      ]
    },
    {
      "cell_type": "code",
      "execution_count": 7,
      "metadata": {
        "id": "VIxjaNoXHAty"
      },
      "outputs": [
        {
          "data": {
            "text/plain": [
              "False"
            ]
          },
          "execution_count": 7,
          "metadata": {},
          "output_type": "execute_result"
        }
      ],
      "source": [
        "58 > 60"
      ]
    },
    {
      "cell_type": "markdown",
      "metadata": {
        "id": "q3ZgvxgbmuEO"
      },
      "source": [
        "## Ejercicio 2: Evaluaciones Complejas\n",
        "\n",
        "Modificaras los _ poniendo el operador que falta para que se adecue al Resultado"
      ]
    },
    {
      "cell_type": "markdown",
      "metadata": {
        "id": "154gcOAonErO"
      },
      "source": [
        "Que todos los resultados den TRUE\n",
        "\n"
      ]
    },
    {
      "cell_type": "code",
      "execution_count": 8,
      "metadata": {
        "id": "08Hx8yB6n3WM"
      },
      "outputs": [
        {
          "data": {
            "text/plain": [
              "True"
            ]
          },
          "execution_count": 8,
          "metadata": {},
          "output_type": "execute_result"
        }
      ],
      "source": [
        "28 <= 56"
      ]
    },
    {
      "cell_type": "code",
      "execution_count": 9,
      "metadata": {
        "id": "3K9jC1L2JqrZ"
      },
      "outputs": [
        {
          "data": {
            "text/plain": [
              "True"
            ]
          },
          "execution_count": 9,
          "metadata": {},
          "output_type": "execute_result"
        }
      ],
      "source": [
        "98 <= 98"
      ]
    },
    {
      "cell_type": "code",
      "execution_count": 10,
      "metadata": {
        "id": "__Xl1c2ZJv5I"
      },
      "outputs": [
        {
          "data": {
            "text/plain": [
              "True"
            ]
          },
          "execution_count": 10,
          "metadata": {},
          "output_type": "execute_result"
        }
      ],
      "source": [
        "26 >= 12"
      ]
    },
    {
      "cell_type": "markdown",
      "metadata": {
        "id": "5nTdHJsUn58G"
      },
      "source": [
        "Que todos los resultados den False"
      ]
    },
    {
      "cell_type": "code",
      "execution_count": 11,
      "metadata": {
        "id": "cbti4yg7oFXZ"
      },
      "outputs": [
        {
          "data": {
            "text/plain": [
              "False"
            ]
          },
          "execution_count": 11,
          "metadata": {},
          "output_type": "execute_result"
        }
      ],
      "source": [
        "86 >= 98"
      ]
    },
    {
      "cell_type": "code",
      "execution_count": 13,
      "metadata": {
        "id": "awSGZn_GJ3Uv"
      },
      "outputs": [
        {
          "data": {
            "text/plain": [
              "False"
            ]
          },
          "execution_count": 13,
          "metadata": {},
          "output_type": "execute_result"
        }
      ],
      "source": [
        "55 <= 54"
      ]
    },
    {
      "cell_type": "code",
      "execution_count": 12,
      "metadata": {
        "id": "JwI0Kim8J3mf"
      },
      "outputs": [
        {
          "data": {
            "text/plain": [
              "False"
            ]
          },
          "execution_count": 12,
          "metadata": {},
          "output_type": "execute_result"
        }
      ],
      "source": [
        "45 <= 35 "
      ]
    },
    {
      "cell_type": "markdown",
      "metadata": {
        "id": "rkLKuewFoeit"
      },
      "source": [
        "## Ejercicio 3: Condicionales Avanzadas"
      ]
    },
    {
      "cell_type": "markdown",
      "metadata": {
        "id": "RopVNIafKxrv"
      },
      "source": [
        "Tendremos una variable llamada `kilometraje` de un coche y queremos saber si debemos mandarlo a servicio\n",
        "\n",
        "Crea una condicional que nos diga que se debe hacer servicio si tiene más de 10000 km \n"
      ]
    },
    {
      "cell_type": "code",
      "execution_count": null,
      "metadata": {
        "id": "hCICpOwAvruU"
      },
      "outputs": [],
      "source": [
        "kilometraje = 12500\n",
        "\n",
        "if kilometraje>10000:\n",
        "    print(f'Hay que mandarlo a servicio')"
      ]
    },
    {
      "cell_type": "markdown",
      "metadata": {
        "id": "Y3wQj8Q-O11J"
      },
      "source": [
        "Crea un programa que evalue si Juan puede comprar Alcohol dependiendo de su edad"
      ]
    },
    {
      "cell_type": "code",
      "execution_count": null,
      "metadata": {
        "id": "IXfHQWx-Rd9u"
      },
      "outputs": [],
      "source": [
        "edad_juan = 21\n",
        "\n",
        "if edad_juan>=18:\n",
        "    print(f'Puede comprar alcohol legalmente')"
      ]
    },
    {
      "cell_type": "markdown",
      "metadata": {
        "id": "qXscApZ7R84a"
      },
      "source": [
        "Modifica el programa de **Evaluar el número más grande** para que en los prints, te aparesca los números que se dieron en el input\n",
        "\n",
        "Ejemplo\n",
        "\n",
        "**12 es mayor que 9**"
      ]
    },
    {
      "cell_type": "code",
      "execution_count": null,
      "metadata": {
        "id": "0zrN9FzoSNnc"
      },
      "outputs": [],
      "source": [
        "valor_1 = int(input('Dame un valor'))\n",
        "valor_2 = int(input('Dame otro valor'))\n",
        "if(valor_1>valor_2):\n",
        "    print(f'{valor_1} es mayor que {valor_2}.')\n",
        "elif(valor_2>valor_1):\n",
        "    print(f'{valor_2} es mayor que {valor_1}.')\n",
        "else:\n",
        "    print(f'{valor_1} es igual a {valor_2}')"
      ]
    },
    {
      "cell_type": "markdown",
      "metadata": {
        "id": "C5jtrBn7x5KE"
      },
      "source": [
        "## Extra Points"
      ]
    },
    {
      "cell_type": "markdown",
      "metadata": {
        "id": "J1CV99N7x7RB"
      },
      "source": [
        "Determinar el pago semanal de un trabajador, solicitando su sueldo x hora y horas trabajadas con base en la siguiente relación:\n",
        "\n",
        "Si trabajó entre 1 y 39 horas, se le paga su sueldo de hora normal\n",
        "\n",
        "Si trabajó entre 40 y 49 horas, se le pagan 39 normal y las demas al doble\n",
        "\n",
        "Si trabajó 50 o más, se le pagan 39 hora normal, 10 horas dobles y las demas al triple\n"
      ]
    },
    {
      "cell_type": "code",
      "execution_count": 33,
      "metadata": {},
      "outputs": [
        {
          "name": "stdout",
          "output_type": "stream",
          "text": [
            "Sueldo con bonos de 2000.0 por trabajar 10 horas extra, y 3300.0 por trabajar otras 11 horas extra ;D\n",
            "Tu sueldo total es de 9200.0\n"
          ]
        }
      ],
      "source": [
        "sueldo = float(input('Dime un sueldo por hora'))\n",
        "horas = int(input('¿Cuántas horas trabajaste?'))\n",
        "sueldoTotal = 0\n",
        "if (horas>=1 and horas<=39):\n",
        "    sueldoTotal = sueldo * horas\n",
        "    print('Sueldo normal... ')\n",
        "    print(f'Tu sueldo total es de {sueldoTotal}')\n",
        "elif (horas>=40 and horas<=49):\n",
        "    horasDobles = horas - 39\n",
        "    sueldoDoble = horasDobles * sueldo * 2\n",
        "    sueldoTotal = (sueldo * 39) + sueldoDoble\n",
        "    print(f'Sueldo con bono de {sueldoDoble} por trabajar {horasDobles} horas extra... ')\n",
        "    print(f'Tu sueldo total es de {sueldoTotal}')\n",
        "elif (horas>=50):\n",
        "    horasDobles = 10\n",
        "    horasTriples = horas - 49\n",
        "    sueldoDoble = horasDobles * sueldo * 2\n",
        "    sueldoTriple = horasTriples * sueldo * 3\n",
        "    sueldoTotal = (sueldo * 39) + sueldoDoble + sueldoTriple\n",
        "    print(f'Sueldo con bonos de {sueldoDoble} por trabajar {horasDobles} horas extra, y {sueldoTriple} por trabajar otras {horasTriples} horas extra ;D')\n",
        "    print(f'Tu sueldo total es de {sueldoTotal}')\n",
        "else:\n",
        "    print('No trabajaste lo suficiente para recibir sueldo.')"
      ]
    },
    {
      "cell_type": "markdown",
      "metadata": {},
      "source": [
        "Logica alternativa"
      ]
    },
    {
      "cell_type": "code",
      "execution_count": 36,
      "metadata": {},
      "outputs": [
        {
          "name": "stdout",
          "output_type": "stream",
          "text": [
            "Sueldo con bono de $2000.0 por trabajar 10 horas extra... \n",
            "Tu sueldo total es de $5900.0\n"
          ]
        }
      ],
      "source": [
        "sueldo = float(input('Dime un sueldo por hora'))\n",
        "horas = int(input('¿Cuántas horas trabajaste?'))\n",
        "sueldoTotal = 0\n",
        "\n",
        "if (horas>=50):\n",
        "    horasDobles = 10\n",
        "    horasTriples = horas - 49\n",
        "    sueldoDoble = horasDobles * sueldo * 2\n",
        "    sueldoTriple = horasTriples * sueldo * 3\n",
        "    sueldoTotal = (sueldo * 39) + sueldoDoble + sueldoTriple\n",
        "    print(f'Sueldo con bonos de ${sueldoDoble} por trabajar {horasDobles} horas extra, y ${sueldoTriple} por trabajar otras {horasTriples} horas extra ;D')\n",
        "elif (horas>=40):\n",
        "    horasDobles = horas - 39\n",
        "    sueldoDoble = horasDobles * sueldo * 2\n",
        "    sueldoTotal = (sueldo * 39) + sueldoDoble\n",
        "    print(f'Sueldo con bono de ${sueldoDoble} por trabajar {horasDobles} horas extra... ')\n",
        "elif (horas>=1):\n",
        "    sueldoTotal = sueldo * horas\n",
        "    print('Sueldo normal... ')   \n",
        "else:\n",
        "    print('No trabajaste lo suficiente para recibir sueldo.')\n",
        "print(f'Tu sueldo total es de ${sueldoTotal}')"
      ]
    },
    {
      "cell_type": "markdown",
      "metadata": {},
      "source": [
        "## Listas"
      ]
    },
    {
      "cell_type": "code",
      "execution_count": 44,
      "metadata": {},
      "outputs": [
        {
          "name": "stdout",
          "output_type": "stream",
          "text": [
            "['Mandarina', 'Sandía', 'Manzana']\n",
            "Mandarina\n",
            "['Mandarina', 'Sandía', 'Manzana', 'Naranja']\n",
            "['Mandarina', 'Sandía']\n",
            "['Manzana', 'Naranja']\n",
            "Naranja\n"
          ]
        }
      ],
      "source": [
        "mis_frutas = [\"Mandarina\", \"Sandía\", \"Manzana\"]\n",
        "print(mis_frutas)\n",
        "print(mis_frutas[0])\n",
        "mis_frutas.append(\"Naranja\")\n",
        "print(mis_frutas)\n",
        "#Slices\n",
        "print(mis_frutas[0:2])\n",
        "print(mis_frutas[2:4])\n",
        "print(mis_frutas[-1])"
      ]
    },
    {
      "cell_type": "code",
      "execution_count": 43,
      "metadata": {},
      "outputs": [
        {
          "name": "stdout",
          "output_type": "stream",
          "text": [
            "El\n",
            "Castillo\n",
            "Vagabundo\n"
          ]
        }
      ],
      "source": [
        "palabra = \"El Castillo Vagabundo\"\n",
        "print(palabra[0:2])\n",
        "print(palabra[3:11])\n",
        "print(palabra[12:21])"
      ]
    },
    {
      "cell_type": "code",
      "execution_count": 50,
      "metadata": {},
      "outputs": [
        {
          "name": "stdout",
          "output_type": "stream",
          "text": [
            "[1, 3, 6, 6, 10, 13, 15, 15, 17, 17]\n",
            "[17, 17, 15, 15, 13, 10, 6, 6, 3, 1]\n"
          ]
        },
        {
          "data": {
            "text/plain": [
              "2"
            ]
          },
          "execution_count": 50,
          "metadata": {},
          "output_type": "execute_result"
        }
      ],
      "source": [
        "mis_numeros = [15,6,1,3,17,13,17,6,15,10]\n",
        "mis_numeros.sort()\n",
        "print(mis_numeros)\n",
        "mis_numeros.sort(reverse=True)\n",
        "print(mis_numeros)\n",
        "mis_numeros.count(15)"
      ]
    },
    {
      "cell_type": "code",
      "execution_count": 49,
      "metadata": {},
      "outputs": [
        {
          "data": {
            "text/plain": [
              "103"
            ]
          },
          "execution_count": 49,
          "metadata": {},
          "output_type": "execute_result"
        }
      ],
      "source": [
        "sum(mis_numeros)"
      ]
    },
    {
      "cell_type": "markdown",
      "metadata": {},
      "source": [
        "$$\\frac{1}{2}\\sum{i}^{n} x_i$$"
      ]
    },
    {
      "cell_type": "code",
      "execution_count": 51,
      "metadata": {},
      "outputs": [
        {
          "name": "stdout",
          "output_type": "stream",
          "text": [
            "10.3\n"
          ]
        }
      ],
      "source": [
        "promedio = sum(mis_numeros)/len(mis_numeros)\n",
        "print(promedio)"
      ]
    },
    {
      "cell_type": "code",
      "execution_count": 53,
      "metadata": {},
      "outputs": [
        {
          "name": "stdout",
          "output_type": "stream",
          "text": [
            "1\n",
            "17\n"
          ]
        }
      ],
      "source": [
        "print(min(mis_numeros))\n",
        "print(max(mis_numeros))"
      ]
    },
    {
      "cell_type": "code",
      "execution_count": null,
      "metadata": {},
      "outputs": [],
      "source": []
    }
  ],
  "metadata": {
    "colab": {
      "collapsed_sections": [],
      "name": "Copia de Reto2.ipynb",
      "provenance": []
    },
    "kernelspec": {
      "display_name": "Python 3.11.0 64-bit",
      "language": "python",
      "name": "python3"
    },
    "language_info": {
      "codemirror_mode": {
        "name": "ipython",
        "version": 3
      },
      "file_extension": ".py",
      "mimetype": "text/x-python",
      "name": "python",
      "nbconvert_exporter": "python",
      "pygments_lexer": "ipython3",
      "version": "3.11.0"
    },
    "vscode": {
      "interpreter": {
        "hash": "52a66d903b899774071b00b3207360c17140a791101c93a65447b380e531dd37"
      }
    }
  },
  "nbformat": 4,
  "nbformat_minor": 0
}
