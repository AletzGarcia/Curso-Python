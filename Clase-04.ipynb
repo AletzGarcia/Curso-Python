{
 "cells": [
  {
   "cell_type": "markdown",
   "metadata": {},
   "source": [
    "# Clase 4"
   ]
  },
  {
   "cell_type": "markdown",
   "metadata": {},
   "source": [
    "Funciones"
   ]
  },
  {
   "cell_type": "code",
   "execution_count": 4,
   "metadata": {},
   "outputs": [],
   "source": [
    "def sumar(a,b):\n",
    "\n",
    "    \"\"\"Función para sumar 2 números\n",
    "    ## Parámetros\n",
    "    a, b : valores enteros\n",
    "    ## Return\n",
    "    La suma de a con b\n",
    "    \"\"\"\n",
    "\n",
    "    resultado = a + b\n",
    "    return resultado"
   ]
  },
  {
   "cell_type": "code",
   "execution_count": 3,
   "metadata": {},
   "outputs": [
    {
     "data": {
      "text/plain": [
       "21"
      ]
     },
     "execution_count": 3,
     "metadata": {},
     "output_type": "execute_result"
    }
   ],
   "source": [
    "sumar(10,11)"
   ]
  },
  {
   "cell_type": "markdown",
   "metadata": {},
   "source": [
    "Actividad 1: Dólares a pesos"
   ]
  },
  {
   "cell_type": "code",
   "execution_count": 11,
   "metadata": {},
   "outputs": [
    {
     "name": "stdout",
     "output_type": "stream",
     "text": [
      "19.76\n",
      "197.60000000000002\n"
     ]
    }
   ],
   "source": [
    "usd = int(input(\"Cantidad de dolares: \"))\n",
    "\n",
    "def dolaresAPesos(dolares):\n",
    "\n",
    "    \"\"\"Función transformar dólares a pesos\n",
    "    (Dólar a 19.76 mxn)\n",
    "    ## Parámetro\n",
    "    c: Cantidad de dólares a transformar\n",
    "    ## Return\n",
    "    Cantidad de dólares en mxn\n",
    "    \"\"\"\n",
    "\n",
    "    resultado = dolares * 19.76\n",
    "    return resultado\n",
    "\n",
    "print(dolaresAPesos(usd))\n",
    "print(dolaresAPesos(10))S"
   ]
  },
  {
   "cell_type": "markdown",
   "metadata": {},
   "source": [
    "Actividad 2: Función para obtener el promedio de una lsita"
   ]
  },
  {
   "cell_type": "code",
   "execution_count": 12,
   "metadata": {},
   "outputs": [
    {
     "name": "stdout",
     "output_type": "stream",
     "text": [
      "9.5\n"
     ]
    }
   ],
   "source": [
    "def promedio(lista):\n",
    "\n",
    "    \"\"\"Función para obtener el promedio de una lista\n",
    "    ## Parámetro\n",
    "    lista: Lista iterable de numeros\n",
    "    ## Return\n",
    "    Promedio\n",
    "    \"\"\"\n",
    "\n",
    "    resultado = sum(lista) / len(lista)\n",
    "    return resultado\n",
    "\n",
    "lista = [10,10,9,9]\n",
    "print(promedio(lista))"
   ]
  },
  {
   "cell_type": "code",
   "execution_count": null,
   "metadata": {},
   "outputs": [],
   "source": []
  }
 ],
 "metadata": {
  "kernelspec": {
   "display_name": "Python 3.11.0 64-bit",
   "language": "python",
   "name": "python3"
  },
  "language_info": {
   "codemirror_mode": {
    "name": "ipython",
    "version": 3
   },
   "file_extension": ".py",
   "mimetype": "text/x-python",
   "name": "python",
   "nbconvert_exporter": "python",
   "pygments_lexer": "ipython3",
   "version": "3.11.0"
  },
  "orig_nbformat": 4,
  "vscode": {
   "interpreter": {
    "hash": "52a66d903b899774071b00b3207360c17140a791101c93a65447b380e531dd37"
   }
  }
 },
 "nbformat": 4,
 "nbformat_minor": 2
}
