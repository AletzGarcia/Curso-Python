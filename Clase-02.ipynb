{
 "cells": [
  {
   "cell_type": "markdown",
   "metadata": {},
   "source": [
    "# Clase 2"
   ]
  },
  {
   "cell_type": "code",
   "execution_count": 3,
   "metadata": {},
   "outputs": [
    {
     "name": "stdout",
     "output_type": "stream",
     "text": [
      "6 es mayor.\n"
     ]
    }
   ],
   "source": [
    "valor_1 = int(input('Dame un valor'))\n",
    "valor_2 = int(input('Dame otro valor'))\n",
    "if(valor_1>valor_2):\n",
    "    print(f'{valor_1} es mayor.')\n",
    "elif(valor_2>valor_1):\n",
    "    print(f'{valor_2} es mayor.')\n",
    "else:\n",
    "    print(f'{valor_1} es igual a {valor_2}')"
   ]
  },
  {
   "cell_type": "code",
   "execution_count": null,
   "metadata": {},
   "outputs": [],
   "source": []
  }
 ],
 "metadata": {
  "kernelspec": {
   "display_name": "Python 3.11.0 64-bit",
   "language": "python",
   "name": "python3"
  },
  "language_info": {
   "codemirror_mode": {
    "name": "ipython",
    "version": 3
   },
   "file_extension": ".py",
   "mimetype": "text/x-python",
   "name": "python",
   "nbconvert_exporter": "python",
   "pygments_lexer": "ipython3",
   "version": "3.11.0"
  },
  "orig_nbformat": 4,
  "vscode": {
   "interpreter": {
    "hash": "52a66d903b899774071b00b3207360c17140a791101c93a65447b380e531dd37"
   }
  }
 },
 "nbformat": 4,
 "nbformat_minor": 2
}
