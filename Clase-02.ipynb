{
 "cells": [
  {
   "cell_type": "markdown",
   "metadata": {},
   "source": [
    "# Clase 2"
   ]
  },
  {
   "cell_type": "code",
   "execution_count": 3,
   "metadata": {},
   "outputs": [
    {
     "name": "stdout",
     "output_type": "stream",
     "text": [
      "6 es mayor.\n"
     ]
    }
   ],
   "source": [
    "valor_1 = int(input('Dame un valor'))\n",
    "valor_2 = int(input('Dame otro valor'))\n",
    "if(valor_1>valor_2):\n",
    "    print(f'{valor_1} es mayor.')\n",
    "elif(valor_2>valor_1):\n",
    "    print(f'{valor_2} es mayor.')\n",
    "else:\n",
    "    print(f'{valor_1} es igual a {valor_2}')"
   ]
  },
  {
   "cell_type": "markdown",
   "metadata": {},
   "source": [
    "## Listas"
   ]
  },
  {
   "cell_type": "code",
   "execution_count": null,
   "metadata": {},
   "outputs": [
    {
     "name": "stdout",
     "output_type": "stream",
     "text": [
      "['Mandarina', 'Sandía', 'Manzana']\n",
      "Mandarina\n",
      "['Mandarina', 'Sandía', 'Manzana', 'Naranja']\n",
      "['Mandarina', 'Sandía']\n",
      "['Manzana', 'Naranja']\n",
      "Naranja\n"
     ]
    }
   ],
   "source": [
    "mis_frutas = [\"Mandarina\", \"Sandía\", \"Manzana\"]\n",
    "print(mis_frutas)\n",
    "print(mis_frutas[0])\n",
    "mis_frutas.append(\"Naranja\")\n",
    "print(mis_frutas)\n",
    "#Slices\n",
    "print(mis_frutas[0:2])\n",
    "print(mis_frutas[2:4])\n",
    "print(mis_frutas[-1])"
   ]
  },
  {
   "cell_type": "code",
   "execution_count": null,
   "metadata": {},
   "outputs": [
    {
     "name": "stdout",
     "output_type": "stream",
     "text": [
      "El\n",
      "Castillo\n",
      "Vagabundo\n"
     ]
    }
   ],
   "source": [
    "palabra = \"El Castillo Vagabundo\"\n",
    "print(palabra[0:2])\n",
    "print(palabra[3:11])\n",
    "print(palabra[12:21])"
   ]
  },
  {
   "cell_type": "code",
   "execution_count": null,
   "metadata": {},
   "outputs": [
    {
     "name": "stdout",
     "output_type": "stream",
     "text": [
      "[1, 3, 6, 6, 10, 13, 15, 15, 17, 17]\n",
      "[17, 17, 15, 15, 13, 10, 6, 6, 3, 1]\n"
     ]
    },
    {
     "data": {
      "text/plain": [
       "2"
      ]
     },
     "metadata": {},
     "output_type": "display_data"
    }
   ],
   "source": [
    "mis_numeros = [15,6,1,3,17,13,17,6,15,10]\n",
    "mis_numeros.sort()\n",
    "print(mis_numeros)\n",
    "mis_numeros.sort(reverse=True)\n",
    "print(mis_numeros)\n",
    "mis_numeros.count(15)"
   ]
  },
  {
   "cell_type": "code",
   "execution_count": null,
   "metadata": {},
   "outputs": [
    {
     "data": {
      "text/plain": [
       "103"
      ]
     },
     "metadata": {},
     "output_type": "display_data"
    }
   ],
   "source": [
    "sum(mis_numeros)"
   ]
  },
  {
   "cell_type": "markdown",
   "metadata": {},
   "source": [
    "$$\\frac{1}{2}\\sum{i}^{n} x_i$$"
   ]
  },
  {
   "cell_type": "code",
   "execution_count": null,
   "metadata": {},
   "outputs": [
    {
     "name": "stdout",
     "output_type": "stream",
     "text": [
      "10.3\n"
     ]
    }
   ],
   "source": [
    "promedio = sum(mis_numeros)/len(mis_numeros)\n",
    "print(promedio)"
   ]
  },
  {
   "cell_type": "code",
   "execution_count": null,
   "metadata": {},
   "outputs": [
    {
     "name": "stdout",
     "output_type": "stream",
     "text": [
      "1\n",
      "17\n"
     ]
    }
   ],
   "source": [
    "print(min(mis_numeros))\n",
    "print(max(mis_numeros))"
   ]
  }
 ],
 "metadata": {
  "kernelspec": {
   "display_name": "Python 3.11.0 64-bit",
   "language": "python",
   "name": "python3"
  },
  "language_info": {
   "codemirror_mode": {
    "name": "ipython",
    "version": 3
   },
   "file_extension": ".py",
   "mimetype": "text/x-python",
   "name": "python",
   "nbconvert_exporter": "python",
   "pygments_lexer": "ipython3",
   "version": "3.11.0"
  },
  "orig_nbformat": 4,
  "vscode": {
   "interpreter": {
    "hash": "52a66d903b899774071b00b3207360c17140a791101c93a65447b380e531dd37"
   }
  }
 },
 "nbformat": 4,
 "nbformat_minor": 2
}
